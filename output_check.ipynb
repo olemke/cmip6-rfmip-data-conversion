{
 "cells": [
  {
   "cell_type": "code",
   "execution_count": null,
   "metadata": {
    "ExecuteTime": {
     "end_time": "2019-06-03T06:38:07.700099Z",
     "start_time": "2019-06-03T06:38:05.696117Z"
    }
   },
   "outputs": [],
   "source": [
    "from netCDF4 import Dataset\n",
    "import matplotlib.pyplot as plt\n",
    "from typhon.plots.maps import get_cfeatures_at_scale\n",
    "import cartopy.crs as ccrs\n",
    "%matplotlib inline"
   ]
  },
  {
   "cell_type": "code",
   "execution_count": null,
   "metadata": {
    "ExecuteTime": {
     "end_time": "2019-06-03T06:38:07.821982Z",
     "start_time": "2019-06-03T06:38:07.702935Z"
    }
   },
   "outputs": [],
   "source": [
    "def plot_file(casename, experiment=0, date='20190409'):\n",
    "    if casename == 'allCFCs':\n",
    "        physics_id = 1\n",
    "    elif casename == 'allCFCs_LM':\n",
    "        physics_id = 2\n",
    "    else:\n",
    "        raise runtime_error('unknown case')\n",
    "    fig = plt.figure(figsize=[20, 15])\n",
    "\n",
    "    subcases = ['rld', 'rlu']\n",
    "    for axid, subcase in enumerate(subcases):\n",
    "        ax = plt.subplot(len(subcases), 1, axid+1,\n",
    "                         projection=ccrs.PlateCarree())\n",
    "        features = get_cfeatures_at_scale(scale='50m')\n",
    "        ax.add_feature(features.BORDERS)\n",
    "        ax.add_feature(features.COASTLINE)\n",
    "        filename = f'Efx_ARTS-2-3_rad-irf_{date}/{subcase}_Efx_ARTS-2-3_rad-irf_r1i1p{physics_id}f1_gn.nc'\n",
    "        with Dataset(filename, 'r') as ds:\n",
    "            cax = ax.scatter(ds['lon'][:], ds['lat'][:],\n",
    "                             s=180, c=ds[subcase][:][experiment, :, -1], cmap='temperature')\n",
    "        plt.title(f'{subcase} {casename} {filename}')\n",
    "        plt.colorbar(cax, ax=ax)"
   ]
  },
  {
   "cell_type": "code",
   "execution_count": null,
   "metadata": {
    "ExecuteTime": {
     "end_time": "2019-06-03T06:38:07.878359Z",
     "start_time": "2019-06-03T06:38:07.824139Z"
    }
   },
   "outputs": [],
   "source": [
    "def plot_file_compare(casename, experiment=0, date='20190603', date_old='20190409'):\n",
    "    if casename == 'allCFCs':\n",
    "        physics_id = 1\n",
    "    elif casename == 'allCFCs_LM':\n",
    "        physics_id = 2\n",
    "    else:\n",
    "        raise runtime_error('unknown case')\n",
    "    fig = plt.figure(figsize=[20, 15])\n",
    "\n",
    "    subcases = ['rld', 'rlu']\n",
    "    for axid, subcase in enumerate(subcases):\n",
    "        ax = plt.subplot(len(subcases), 1, axid+1,\n",
    "                         projection=ccrs.PlateCarree())\n",
    "        features = get_cfeatures_at_scale(scale='50m')\n",
    "        ax.add_feature(features.BORDERS)\n",
    "        ax.add_feature(features.COASTLINE)\n",
    "        filename = f'Efx_ARTS-2-3_rad-irf_{date}/{subcase}_Efx_ARTS-2-3_rad-irf_r1i1p{physics_id}f1_gn.nc'\n",
    "        filename_old = f'Efx_ARTS-2-3_rad-irf_{date_old}/{subcase}_Efx_ARTS-2-3_rad-irf_r1i1p{physics_id}f1_gn.nc'\n",
    "        with Dataset(filename, 'r') as ds, Dataset(filename_old, 'r') as ds_old:\n",
    "            cax = ax.scatter(ds['lon'][:], ds['lat'][:],\n",
    "                             s=180, c=ds[subcase][:][experiment, :, -1]-ds_old[subcase][:][experiment, :, -1], cmap='temperature')\n",
    "            print(f'Exp: {experiment} Min: {np.min(ds[subcase][:][experiment, :, -1])} Max: {np.max(ds[subcase][:][experiment, :, -1])}')\n",
    "        plt.title(f'{subcase} {casename} {filename}')\n",
    "        plt.colorbar(cax, ax=ax)"
   ]
  },
  {
   "cell_type": "code",
   "execution_count": null,
   "metadata": {
    "ExecuteTime": {
     "end_time": "2019-06-03T06:38:07.970540Z",
     "start_time": "2019-06-03T06:38:07.880255Z"
    }
   },
   "outputs": [],
   "source": [
    "# inpath = 'Efx_ARTS-2-3_rad-irf_20190319'\n",
    "#inpath = 'Efx_ARTS-2-3_rad-irf_20190409'\n",
    "inpath = 'Efx_ARTS-2-3_rad-irf_20190603'\n",
    "for subcase in ['rld', 'rlu']:\n",
    "    with Dataset(f'{inpath}/{subcase}_Efx_ARTS-2-3_rad-irf_r1i1p1f1_gn.nc', 'r') as ds:\n",
    "        allcfcs = ds[subcase][:]\n",
    "    with Dataset(f'{inpath}/{subcase}_Efx_ARTS-2-3_rad-irf_r1i1p2f1_gn.nc', 'r') as ds:\n",
    "        allcfcslm = ds[subcase][:]\n",
    "    print(subcase, 'diff:', np.max(allcfcs - allcfcslm))"
   ]
  },
  {
   "cell_type": "code",
   "execution_count": null,
   "metadata": {
    "ExecuteTime": {
     "end_time": "2019-06-03T06:38:11.110728Z",
     "start_time": "2019-06-03T06:38:07.972389Z"
    }
   },
   "outputs": [],
   "source": [
    "plot_file('allCFCs', 0, '20190409')\n",
    "plot_file('allCFCs', 0, '20190603')"
   ]
  },
  {
   "cell_type": "code",
   "execution_count": null,
   "metadata": {
    "ExecuteTime": {
     "end_time": "2019-06-03T06:39:01.736759Z",
     "start_time": "2019-06-03T06:38:11.112563Z"
    }
   },
   "outputs": [],
   "source": [
    "for i in range(18):\n",
    "    plot_file_compare('allCFCs', i)\n",
    "    plt.savefig(f'allCFCs_{(i+1):02d}.pdf')\n",
    "    plt.close()\n",
    "for i in range(18):\n",
    "    plot_file_compare('allCFCs_LM', i)\n",
    "    plt.savefig(f'allCFCs_LM_{(i+1):02d}.pdf')\n",
    "    plt.close()"
   ]
  }
 ],
 "metadata": {
  "kernelspec": {
   "display_name": "Python 3",
   "language": "python",
   "name": "python3"
  },
  "language_info": {
   "codemirror_mode": {
    "name": "ipython",
    "version": 3
   },
   "file_extension": ".py",
   "mimetype": "text/x-python",
   "name": "python",
   "nbconvert_exporter": "python",
   "pygments_lexer": "ipython3",
   "version": "3.7.3"
  }
 },
 "nbformat": 4,
 "nbformat_minor": 2
}
